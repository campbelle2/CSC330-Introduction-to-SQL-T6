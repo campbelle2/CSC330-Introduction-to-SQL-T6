{
 "cells": [
  {
   "cell_type": "markdown",
   "metadata": {},
   "source": [
    "# Practice Exercises for Single Table SQL\n",
    "\n",
    "Given a dataset and a set of questions, form the queries to answer the questions. All questions in this particular exercise only require a query to a single table. \n",
    "\n",
    "⚠️ *Note:* Please display minimal number of attributes (columns) needed to make sense of your answer. Not too many, not too few.\n"
   ]
  },
  {
   "cell_type": "markdown",
   "metadata": {},
   "source": [
    "## Setup\n",
    "The SQLite database for these exercises has been setup for you. For the curious, you can look at this file for the DDL commands to setup the tables and insert data.  `db_illum_ddl_5_3.sql`\n",
    "\n",
    "Here is the schema for the database. The arrows show foreign keys, which is just fyi for now. \n",
    "\n",
    "![worker_project schema](worker_project_schema.png) "
   ]
  },
  {
   "cell_type": "code",
   "execution_count": 1,
   "metadata": {
    "vscode": {
     "languageId": "sql"
    }
   },
   "outputs": [],
   "source": [
    "# Make sure to always run this cell when you open this notebook\n",
    "# Start the Jupyter SQL engine, connecting to a SQLite database \n",
    "%reload_ext sql \n",
    "%sql sqlite:///worker_project.db"
   ]
  },
  {
   "cell_type": "markdown",
   "metadata": {},
   "source": [
    "0. In the command line, inspect the sqlite database (worker_project.db) to see what the tables and columns actually are. Any differences you observe? (Also, copy past your output in the cell below)"
   ]
  },
  {
   "cell_type": "code",
   "execution_count": null,
   "metadata": {},
   "outputs": [],
   "source": [
    "sqlite3 worker_project.db\n",
    "SQLite version 3.38.2 2022-03-26 13:51:10\n",
    "Enter \".help\" for usage hints.\n",
    "sqlite> .tables\n",
    "Assign   Dept     Project  Worker \n",
    "sqlite> select * from Assign;\n",
    "1001|101|30|\n",
    "1001|103|20|5\n",
    "1005|103|20|\n",
    "1001|105|30|\n",
    "1001|115|20|4\n",
    "1019|110|20|5\n",
    "1019|115|10|4\n",
    "1025|110|10|\n",
    "1030|110|10|\n",
    "sqlite> select * from Dept\n",
    "   ...> ;\n",
    "Accounting|101\n",
    "Research|110\n",
    "sqlite> select * from Project;\n",
    "1001|Jupiter|101|300000|01-Feb-2021|50\n",
    "1005|Saturn|101|400000|01-Jun-2022|35\n",
    "1019|Mercury|110|350000|15-Feb-2022|40\n",
    "1025|Neptune|110|600000|01-Feb-2021|45\n",
    "1030|Pluto|110|380000|15-Sep-2023|50\n",
    "sqlite> select * from Worker;\n",
    "101|Smith|Tom|Accounting|01-Feb-1970|06-Jun-1993 |50000\n",
    "103|Jones|Mary|Accounting|15-Jun-1975|20-Sep-2005|48000\n",
    "105|Burns|Jane|Accounting|21-Sep-1980|12-Jun-2015|39000\n",
    "110|Burns|Michael|Research|05-Apr-1977|10-Sep-2020|70000\n",
    "115|Chin|Amanda|Research|22-Sep-1980|19-Jun-2022|60000"
   ]
  },
  {
   "cell_type": "markdown",
   "metadata": {},
   "source": [
    "1. Get the names of all workers in the Accounting department."
   ]
  },
  {
   "cell_type": "code",
   "execution_count": 10,
   "metadata": {
    "vscode": {
     "languageId": "sql"
    }
   },
   "outputs": [
    {
     "name": "stdout",
     "output_type": "stream",
     "text": [
      " * sqlite:///worker_project.db\n",
      "Done.\n"
     ]
    },
    {
     "data": {
      "text/html": [
       "<table>\n",
       "    <tr>\n",
       "        <th>full_name</th>\n",
       "    </tr>\n",
       "    <tr>\n",
       "        <td>Tom Smith</td>\n",
       "    </tr>\n",
       "    <tr>\n",
       "        <td>Mary Jones</td>\n",
       "    </tr>\n",
       "    <tr>\n",
       "        <td>Jane Burns</td>\n",
       "    </tr>\n",
       "</table>"
      ],
      "text/plain": [
       "[('Tom Smith',), ('Mary Jones',), ('Jane Burns',)]"
      ]
     },
     "execution_count": 10,
     "metadata": {},
     "output_type": "execute_result"
    }
   ],
   "source": [
    "%%sql\n",
    "Select (firstName || \" \" || lastName) as full_name from Worker where deptName == \"Accounting\""
   ]
  },
  {
   "cell_type": "markdown",
   "metadata": {},
   "source": [
    "2. Get the name of the employee in the Research department who has the lowest salary."
   ]
  },
  {
   "cell_type": "code",
   "execution_count": 16,
   "metadata": {
    "vscode": {
     "languageId": "sql"
    }
   },
   "outputs": [
    {
     "name": "stdout",
     "output_type": "stream",
     "text": [
      " * sqlite:///worker_project.db\n",
      "Done.\n"
     ]
    },
    {
     "data": {
      "text/html": [
       "<table>\n",
       "    <tr>\n",
       "        <th>full_name</th>\n",
       "    </tr>\n",
       "    <tr>\n",
       "        <td>Amanda Chin</td>\n",
       "    </tr>\n",
       "</table>"
      ],
      "text/plain": [
       "[('Amanda Chin',)]"
      ]
     },
     "execution_count": 16,
     "metadata": {},
     "output_type": "execute_result"
    }
   ],
   "source": [
    "%%sql\n",
    "Select (firstName || \" \" || lastName) as full_name from Worker where deptName == \"Research\"\n",
    "Order by salary ASC limit 1"
   ]
  },
  {
   "cell_type": "markdown",
   "metadata": {},
   "source": [
    "3. Get the details of the project with the highest budget."
   ]
  },
  {
   "cell_type": "code",
   "execution_count": 20,
   "metadata": {
    "vscode": {
     "languageId": "sql"
    }
   },
   "outputs": [
    {
     "name": "stdout",
     "output_type": "stream",
     "text": [
      " * sqlite:///worker_project.db\n",
      "Done.\n"
     ]
    },
    {
     "data": {
      "text/html": [
       "<table>\n",
       "    <tr>\n",
       "        <th>projNo</th>\n",
       "        <th>projName</th>\n",
       "        <th>projMgrId</th>\n",
       "        <th>budget</th>\n",
       "        <th>startDate</th>\n",
       "        <th>expectedDurationWeeks</th>\n",
       "    </tr>\n",
       "    <tr>\n",
       "        <td>1025</td>\n",
       "        <td>Neptune</td>\n",
       "        <td>110</td>\n",
       "        <td>600000</td>\n",
       "        <td>01-Feb-2021</td>\n",
       "        <td>45</td>\n",
       "    </tr>\n",
       "</table>"
      ],
      "text/plain": [
       "[(1025, 'Neptune', 110, 600000, '01-Feb-2021', 45)]"
      ]
     },
     "execution_count": 20,
     "metadata": {},
     "output_type": "execute_result"
    }
   ],
   "source": [
    "%%sql\n",
    "Select * from Project\n",
    "Order by budget DESC limit 1"
   ]
  },
  {
   "cell_type": "markdown",
   "metadata": {},
   "source": [
    "## The following questions may require more than one query to answer. \n",
    "Show your work! Add as many SQL cells as needed for each question. Use comments to indicate how the output of each query is used to arrive at your answer.  "
   ]
  },
  {
   "cell_type": "markdown",
   "metadata": {},
   "source": [
    "4. List out alphabetically the names of all workers working on Project 1001."
   ]
  },
  {
   "cell_type": "code",
   "execution_count": 28,
   "metadata": {
    "vscode": {
     "languageId": "sql"
    }
   },
   "outputs": [
    {
     "name": "stdout",
     "output_type": "stream",
     "text": [
      " * sqlite:///worker_project.db\n",
      "Done.\n"
     ]
    },
    {
     "data": {
      "text/html": [
       "<table>\n",
       "    <tr>\n",
       "        <th>full_name</th>\n",
       "    </tr>\n",
       "    <tr>\n",
       "        <td>Amanda Chin</td>\n",
       "    </tr>\n",
       "    <tr>\n",
       "        <td>Jane Burns</td>\n",
       "    </tr>\n",
       "    <tr>\n",
       "        <td>Mary Jones</td>\n",
       "    </tr>\n",
       "    <tr>\n",
       "        <td>Tom Smith</td>\n",
       "    </tr>\n",
       "</table>"
      ],
      "text/plain": [
       "[('Amanda Chin',), ('Jane Burns',), ('Mary Jones',), ('Tom Smith',)]"
      ]
     },
     "execution_count": 28,
     "metadata": {},
     "output_type": "execute_result"
    }
   ],
   "source": [
    "%%sql\n",
    "Select (firstName || \" \" || lastName) as full_name from Worker, Assign where Worker.empId = Assign.empId and Assign.projNo = 1001\n",
    "Order by full_name ASC"
   ]
  },
  {
   "cell_type": "markdown",
   "metadata": {},
   "source": [
    "5. Get an alphabetical list of names and corresponding ratings for all workers on any project managed by Michael Burns."
   ]
  },
  {
   "cell_type": "code",
   "execution_count": 40,
   "metadata": {
    "vscode": {
     "languageId": "sql"
    }
   },
   "outputs": [
    {
     "name": "stdout",
     "output_type": "stream",
     "text": [
      " * sqlite:///worker_project.db\n",
      "Done.\n"
     ]
    },
    {
     "data": {
      "text/html": [
       "<table>\n",
       "    <tr>\n",
       "        <th>full_name</th>\n",
       "        <th>rating</th>\n",
       "    </tr>\n",
       "    <tr>\n",
       "        <td>Amanda Chin</td>\n",
       "        <td>4</td>\n",
       "    </tr>\n",
       "    <tr>\n",
       "        <td>Michael Burns</td>\n",
       "        <td>5</td>\n",
       "    </tr>\n",
       "</table>"
      ],
      "text/plain": [
       "[('Amanda Chin', 4), ('Michael Burns', 5)]"
      ]
     },
     "execution_count": 40,
     "metadata": {},
     "output_type": "execute_result"
    }
   ],
   "source": [
    "%%sql\n",
    "Select DISTINCT (firstName || \" \" || lastName) as full_name, rating from Worker, Project, Assign where Worker.empId = Assign.empId and Assign.projNo = (Select projNo from Project where projMgrId = 110)\n",
    "Order by full_name ASC "
   ]
  },
  {
   "cell_type": "markdown",
   "metadata": {},
   "source": [
    "6. For all projects starting after Feb 1, 2022, find the project number and names of all workers assigned to them. "
   ]
  },
  {
   "cell_type": "code",
   "execution_count": 48,
   "metadata": {
    "vscode": {
     "languageId": "sql"
    }
   },
   "outputs": [
    {
     "name": "stdout",
     "output_type": "stream",
     "text": [
      " * sqlite:///worker_project.db\n",
      "Done.\n"
     ]
    },
    {
     "data": {
      "text/html": [
       "<table>\n",
       "    <tr>\n",
       "        <th>projNo</th>\n",
       "    </tr>\n",
       "    <tr>\n",
       "        <td>1005</td>\n",
       "    </tr>\n",
       "    <tr>\n",
       "        <td>1019</td>\n",
       "    </tr>\n",
       "    <tr>\n",
       "        <td>1030</td>\n",
       "    </tr>\n",
       "</table>"
      ],
      "text/plain": [
       "[(1005,), (1019,), (1030,)]"
      ]
     },
     "execution_count": 48,
     "metadata": {},
     "output_type": "execute_result"
    }
   ],
   "source": [
    "%%sql\n",
    "--Select projNo, (firstName || \" \" || lastName) as full_name from Worker, Assign where projNo in (Select projNo from Project where startDate > \"01-Feb-2021\")\n",
    "Select projNo from Project where startDate > \"01-Feb-2021\""
   ]
  },
  {
   "cell_type": "code",
   "execution_count": 50,
   "metadata": {
    "vscode": {
     "languageId": "sql"
    }
   },
   "outputs": [
    {
     "name": "stdout",
     "output_type": "stream",
     "text": [
      " * sqlite:///worker_project.db\n",
      "Done.\n"
     ]
    },
    {
     "data": {
      "text/html": [
       "<table>\n",
       "    <tr>\n",
       "        <th>empId</th>\n",
       "    </tr>\n",
       "    <tr>\n",
       "        <td>103</td>\n",
       "    </tr>\n",
       "    <tr>\n",
       "        <td>110</td>\n",
       "    </tr>\n",
       "    <tr>\n",
       "        <td>115</td>\n",
       "    </tr>\n",
       "    <tr>\n",
       "        <td>110</td>\n",
       "    </tr>\n",
       "</table>"
      ],
      "text/plain": [
       "[(103,), (110,), (115,), (110,)]"
      ]
     },
     "execution_count": 50,
     "metadata": {},
     "output_type": "execute_result"
    }
   ],
   "source": [
    "%%sql\n",
    "Select empId from Assign where projNo in (Select projNo from Project where startDate > \"01-Feb-2021\")"
   ]
  },
  {
   "cell_type": "code",
   "execution_count": 52,
   "metadata": {
    "vscode": {
     "languageId": "sql"
    }
   },
   "outputs": [
    {
     "name": "stdout",
     "output_type": "stream",
     "text": [
      " * sqlite:///worker_project.db\n",
      "Done.\n"
     ]
    },
    {
     "data": {
      "text/html": [
       "<table>\n",
       "    <tr>\n",
       "        <th>full_name</th>\n",
       "    </tr>\n",
       "    <tr>\n",
       "        <td>Mary Jones</td>\n",
       "    </tr>\n",
       "    <tr>\n",
       "        <td>Michael Burns</td>\n",
       "    </tr>\n",
       "    <tr>\n",
       "        <td>Amanda Chin</td>\n",
       "    </tr>\n",
       "</table>"
      ],
      "text/plain": [
       "[('Mary Jones',), ('Michael Burns',), ('Amanda Chin',)]"
      ]
     },
     "execution_count": 52,
     "metadata": {},
     "output_type": "execute_result"
    }
   ],
   "source": [
    "%%sql \n",
    "Select (firstName || \" \" || lastName) as full_name from Worker where empId in (Select empId from Assign where projNo in (Select projNo from Project where startDate > \"01-Feb-2021\"))"
   ]
  },
  {
   "cell_type": "markdown",
   "metadata": {},
   "source": [
    "7. Find the names of employees who are not assigned as managers any project."
   ]
  },
  {
   "cell_type": "code",
   "execution_count": 55,
   "metadata": {
    "vscode": {
     "languageId": "sql"
    }
   },
   "outputs": [
    {
     "name": "stdout",
     "output_type": "stream",
     "text": [
      " * sqlite:///worker_project.db\n",
      "Done.\n"
     ]
    },
    {
     "data": {
      "text/html": [
       "<table>\n",
       "    <tr>\n",
       "        <th>projMgrId</th>\n",
       "    </tr>\n",
       "    <tr>\n",
       "        <td>101</td>\n",
       "    </tr>\n",
       "    <tr>\n",
       "        <td>110</td>\n",
       "    </tr>\n",
       "</table>"
      ],
      "text/plain": [
       "[(101,), (110,)]"
      ]
     },
     "execution_count": 55,
     "metadata": {},
     "output_type": "execute_result"
    }
   ],
   "source": [
    "%%sql\n",
    "Select DISTINCT projMgrId from Project"
   ]
  },
  {
   "cell_type": "code",
   "execution_count": 56,
   "metadata": {
    "vscode": {
     "languageId": "sql"
    }
   },
   "outputs": [
    {
     "name": "stdout",
     "output_type": "stream",
     "text": [
      " * sqlite:///worker_project.db\n",
      "Done.\n"
     ]
    },
    {
     "data": {
      "text/html": [
       "<table>\n",
       "    <tr>\n",
       "        <th>full_name</th>\n",
       "    </tr>\n",
       "    <tr>\n",
       "        <td>Mary Jones</td>\n",
       "    </tr>\n",
       "    <tr>\n",
       "        <td>Jane Burns</td>\n",
       "    </tr>\n",
       "    <tr>\n",
       "        <td>Amanda Chin</td>\n",
       "    </tr>\n",
       "</table>"
      ],
      "text/plain": [
       "[('Mary Jones',), ('Jane Burns',), ('Amanda Chin',)]"
      ]
     },
     "execution_count": 56,
     "metadata": {},
     "output_type": "execute_result"
    }
   ],
   "source": [
    "%%sql \n",
    "Select (firstName || \" \" || lastName) as full_name from Worker where empId NOT IN (Select DISTINCT projMgrId from Project)"
   ]
  },
  {
   "cell_type": "markdown",
   "metadata": {},
   "source": [
    "8. Find details of any project with the string \"urn\" in the project name. "
   ]
  },
  {
   "cell_type": "code",
   "execution_count": 57,
   "metadata": {
    "vscode": {
     "languageId": "sql"
    }
   },
   "outputs": [
    {
     "name": "stdout",
     "output_type": "stream",
     "text": [
      " * sqlite:///worker_project.db\n",
      "Done.\n"
     ]
    },
    {
     "data": {
      "text/html": [
       "<table>\n",
       "    <tr>\n",
       "        <th>projNo</th>\n",
       "        <th>projName</th>\n",
       "        <th>projMgrId</th>\n",
       "        <th>budget</th>\n",
       "        <th>startDate</th>\n",
       "        <th>expectedDurationWeeks</th>\n",
       "    </tr>\n",
       "    <tr>\n",
       "        <td>1005</td>\n",
       "        <td>Saturn</td>\n",
       "        <td>101</td>\n",
       "        <td>400000</td>\n",
       "        <td>01-Jun-2022</td>\n",
       "        <td>35</td>\n",
       "    </tr>\n",
       "</table>"
      ],
      "text/plain": [
       "[(1005, 'Saturn', 101, 400000, '01-Jun-2022', 35)]"
      ]
     },
     "execution_count": 57,
     "metadata": {},
     "output_type": "execute_result"
    }
   ],
   "source": [
    "%%sql\n",
    "Select * from Project where projName LIKE \"%urn%\""
   ]
  },
  {
   "cell_type": "markdown",
   "metadata": {},
   "source": [
    "9. List out the projects from most to least efficient. (hint: the project with the lowest budget is not necessarily the one that uses time and human resources effectively.)"
   ]
  },
  {
   "cell_type": "code",
   "execution_count": 60,
   "metadata": {
    "vscode": {
     "languageId": "sql"
    }
   },
   "outputs": [
    {
     "name": "stdout",
     "output_type": "stream",
     "text": [
      " * sqlite:///worker_project.db\n",
      "Done.\n"
     ]
    },
    {
     "data": {
      "text/html": [
       "<table>\n",
       "    <tr>\n",
       "        <th>empId</th>\n",
       "        <th>projNo</th>\n",
       "    </tr>\n",
       "    <tr>\n",
       "        <td>101</td>\n",
       "        <td>1001</td>\n",
       "    </tr>\n",
       "    <tr>\n",
       "        <td>103</td>\n",
       "        <td>1001</td>\n",
       "    </tr>\n",
       "    <tr>\n",
       "        <td>105</td>\n",
       "        <td>1001</td>\n",
       "    </tr>\n",
       "    <tr>\n",
       "        <td>115</td>\n",
       "        <td>1001</td>\n",
       "    </tr>\n",
       "    <tr>\n",
       "        <td>103</td>\n",
       "        <td>1005</td>\n",
       "    </tr>\n",
       "    <tr>\n",
       "        <td>110</td>\n",
       "        <td>1019</td>\n",
       "    </tr>\n",
       "    <tr>\n",
       "        <td>115</td>\n",
       "        <td>1019</td>\n",
       "    </tr>\n",
       "    <tr>\n",
       "        <td>110</td>\n",
       "        <td>1025</td>\n",
       "    </tr>\n",
       "    <tr>\n",
       "        <td>110</td>\n",
       "        <td>1030</td>\n",
       "    </tr>\n",
       "</table>"
      ],
      "text/plain": [
       "[(101, 1001),\n",
       " (103, 1001),\n",
       " (105, 1001),\n",
       " (115, 1001),\n",
       " (103, 1005),\n",
       " (110, 1019),\n",
       " (115, 1019),\n",
       " (110, 1025),\n",
       " (110, 1030)]"
      ]
     },
     "execution_count": 60,
     "metadata": {},
     "output_type": "execute_result"
    }
   ],
   "source": [
    "%%sql\n",
    "Select empId, projNo from Assign"
   ]
  },
  {
   "cell_type": "code",
   "execution_count": 64,
   "metadata": {
    "vscode": {
     "languageId": "sql"
    }
   },
   "outputs": [
    {
     "name": "stdout",
     "output_type": "stream",
     "text": [
      " * sqlite:///worker_project.db\n",
      "Done.\n"
     ]
    },
    {
     "data": {
      "text/html": [
       "<table>\n",
       "    <tr>\n",
       "        <th>projName</th>\n",
       "        <th>project_efficiency</th>\n",
       "    </tr>\n",
       "    <tr>\n",
       "        <td>Neptune</td>\n",
       "        <td>13333</td>\n",
       "    </tr>\n",
       "    <tr>\n",
       "        <td>Saturn</td>\n",
       "        <td>11428</td>\n",
       "    </tr>\n",
       "    <tr>\n",
       "        <td>Pluto</td>\n",
       "        <td>7600</td>\n",
       "    </tr>\n",
       "    <tr>\n",
       "        <td>Mercury</td>\n",
       "        <td>4375</td>\n",
       "    </tr>\n",
       "    <tr>\n",
       "        <td>Jupiter</td>\n",
       "        <td>1500</td>\n",
       "    </tr>\n",
       "</table>"
      ],
      "text/plain": [
       "[('Neptune', 13333),\n",
       " ('Saturn', 11428),\n",
       " ('Pluto', 7600),\n",
       " ('Mercury', 4375),\n",
       " ('Jupiter', 1500)]"
      ]
     },
     "execution_count": 64,
     "metadata": {},
     "output_type": "execute_result"
    }
   ],
   "source": [
    "%%sql\n",
    "Select projName, budget/expectedDurationWeeks/(SELECT count() from Assign where projNo=p.projNo) as \"project_efficiency\" \n",
    "from Project p\n",
    "Order by project_efficiency DESC"
   ]
  },
  {
   "cell_type": "markdown",
   "metadata": {},
   "source": [
    "10. Explain your reasoning for your solution to #9 (use a Markdown cell), including who should get the award for Most Efficient Project Manager."
   ]
  },
  {
   "attachments": {},
   "cell_type": "markdown",
   "metadata": {},
   "source": [
    "My query for #9 decides efficiency by dividing the budget of each project by the estimated duration in weeks and by the number of employees assigned to those projects, at least I THINK the count() portion is counting the number of employees on each project. I chose to approach it this way because I thought the duration was important, but the number of employees on each project also vastly changes how efficient a project would be. Thus, dividing the total budget of each project by the estimated duration and the number of employees on the project should give an accurate show of how the budget is divided among the employees on the project over the duration. The higher the project_efficiency number is the more efficient the project is. The Most Efficient Project Manager award should go to Michael Burns because he has the most efficient project along with the 3rd and 4th most efficient projects."
   ]
  },
  {
   "cell_type": "code",
   "execution_count": 70,
   "metadata": {
    "vscode": {
     "languageId": "sql"
    }
   },
   "outputs": [
    {
     "name": "stdout",
     "output_type": "stream",
     "text": [
      " * sqlite:///worker_project.db\n",
      "Done.\n"
     ]
    },
    {
     "data": {
      "text/html": [
       "<table>\n",
       "    <tr>\n",
       "        <th>projNo</th>\n",
       "        <th>projName</th>\n",
       "        <th>projMgrId</th>\n",
       "        <th>budget</th>\n",
       "        <th>startDate</th>\n",
       "        <th>expectedDurationWeeks</th>\n",
       "    </tr>\n",
       "    <tr>\n",
       "        <td>1001</td>\n",
       "        <td>Jupiter</td>\n",
       "        <td>101</td>\n",
       "        <td>300000</td>\n",
       "        <td>01-Feb-2021</td>\n",
       "        <td>50</td>\n",
       "    </tr>\n",
       "    <tr>\n",
       "        <td>1005</td>\n",
       "        <td>Saturn</td>\n",
       "        <td>101</td>\n",
       "        <td>400000</td>\n",
       "        <td>01-Jun-2022</td>\n",
       "        <td>35</td>\n",
       "    </tr>\n",
       "    <tr>\n",
       "        <td>1019</td>\n",
       "        <td>Mercury</td>\n",
       "        <td>110</td>\n",
       "        <td>350000</td>\n",
       "        <td>15-Feb-2022</td>\n",
       "        <td>40</td>\n",
       "    </tr>\n",
       "    <tr>\n",
       "        <td>1025</td>\n",
       "        <td>Neptune</td>\n",
       "        <td>110</td>\n",
       "        <td>600000</td>\n",
       "        <td>01-Feb-2021</td>\n",
       "        <td>45</td>\n",
       "    </tr>\n",
       "    <tr>\n",
       "        <td>1030</td>\n",
       "        <td>Pluto</td>\n",
       "        <td>110</td>\n",
       "        <td>380000</td>\n",
       "        <td>15-Sep-2023</td>\n",
       "        <td>50</td>\n",
       "    </tr>\n",
       "</table>"
      ],
      "text/plain": [
       "[(1001, 'Jupiter', 101, 300000, '01-Feb-2021', 50),\n",
       " (1005, 'Saturn', 101, 400000, '01-Jun-2022', 35),\n",
       " (1019, 'Mercury', 110, 350000, '15-Feb-2022', 40),\n",
       " (1025, 'Neptune', 110, 600000, '01-Feb-2021', 45),\n",
       " (1030, 'Pluto', 110, 380000, '15-Sep-2023', 50)]"
      ]
     },
     "execution_count": 70,
     "metadata": {},
     "output_type": "execute_result"
    }
   ],
   "source": [
    "%%sql\n",
    "\n",
    "Select * from Project"
   ]
  },
  {
   "cell_type": "markdown",
   "metadata": {},
   "source": [
    "11. Bonus!!  A Query that you can't easily answer with just a set of queries: Get a list of project numbers with name and start dates, of all the projects that have the same start date as another. \n",
    "*you don't have to answer this, but think about it!*\n"
   ]
  },
  {
   "cell_type": "markdown",
   "metadata": {},
   "source": [
    "## Submission:\n",
    "\n",
    "Commit and push your changes to this document by the deadline, and share a link to the repository in the Moodle assignment.  "
   ]
  },
  {
   "attachments": {},
   "cell_type": "markdown",
   "metadata": {},
   "source": [
    "I worked with Molly Perez on most of the queries, and received help from Prof Ramsey and Chesky. \n",
    "Dr. Jones said that I did not have to go back and change the queries using joins since I had already completed them, but I made sure to complete the rest without joins. Also, the queries that ask for alphabetized results are alphabetized by first name."
   ]
  }
 ],
 "metadata": {
  "kernelspec": {
   "display_name": "Python 3 (ipykernel)",
   "language": "python",
   "name": "python3"
  },
  "language_info": {
   "codemirror_mode": {
    "name": "ipython",
    "version": 3
   },
   "file_extension": ".py",
   "mimetype": "text/x-python",
   "name": "python",
   "nbconvert_exporter": "python",
   "pygments_lexer": "ipython3",
   "version": "3.10.4"
  },
  "vscode": {
   "interpreter": {
    "hash": "3ad933181bd8a04b432d3370b9dc3b0662ad032c4dfaa4e4f1596c548f763858"
   }
  }
 },
 "nbformat": 4,
 "nbformat_minor": 4
}
